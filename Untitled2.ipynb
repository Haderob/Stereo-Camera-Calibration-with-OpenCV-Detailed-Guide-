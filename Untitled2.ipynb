{
  "nbformat": 4,
  "nbformat_minor": 0,
  "metadata": {
    "colab": {
      "provenance": [],
      "authorship_tag": "ABX9TyOYDeLo3zUl29W7NDVBjNCo",
      "include_colab_link": true
    },
    "kernelspec": {
      "name": "python3",
      "display_name": "Python 3"
    },
    "language_info": {
      "name": "python"
    }
  },
  "cells": [
    {
      "cell_type": "markdown",
      "metadata": {
        "id": "view-in-github",
        "colab_type": "text"
      },
      "source": [
        "<a href=\"https://colab.research.google.com/github/Haderob/Stereo-Camera-Calibration-with-OpenCV-Detailed-Guide-/blob/main/Untitled2.ipynb\" target=\"_parent\"><img src=\"https://colab.research.google.com/assets/colab-badge.svg\" alt=\"Open In Colab\"/></a>"
      ]
    },
    {
      "cell_type": "code",
      "execution_count": 27,
      "metadata": {
        "id": "jhEDGyYz_ebZ"
      },
      "outputs": [],
      "source": [
        "import cv2\n",
        "import glob\n",
        "import numpy as np"
      ]
    },
    {
      "cell_type": "code",
      "source": [
        "from google.colab import drive\n",
        "drive.mount('/content/drive')"
      ],
      "metadata": {
        "colab": {
          "base_uri": "https://localhost:8080/"
        },
        "id": "mkRaLCAVDmSm",
        "outputId": "c789ada3-370f-414b-8101-50b828fb54df"
      },
      "execution_count": 2,
      "outputs": [
        {
          "output_type": "stream",
          "name": "stdout",
          "text": [
            "Mounted at /content/drive\n"
          ]
        }
      ]
    },
    {
      "cell_type": "code",
      "source": [
        "PATTERN_SIZE = (9, 6)\n",
        "left_imgs = list(sorted(glob.glob('/content/drive/MyDrive/Colab-Notebooks/clibration/L*.png')))\n",
        "right_imgs = list(sorted(glob.glob('/content/drive/MyDrive/Colab-Notebooks/clibration/R*.png')))\n",
        "print(len(left_imgs))\n",
        "print(len(right_imgs))\n",
        "assert len(left_imgs) == len(right_imgs)"
      ],
      "metadata": {
        "colab": {
          "base_uri": "https://localhost:8080/"
        },
        "id": "75jm0jZVAPF3",
        "outputId": "ec1fc9dd-8541-49f5-fad2-e5553d46893b"
      },
      "execution_count": 29,
      "outputs": [
        {
          "output_type": "stream",
          "name": "stdout",
          "text": [
            "49\n",
            "49\n"
          ]
        }
      ]
    },
    {
      "cell_type": "code",
      "source": [
        "criteria = (cv2.TERM_CRITERIA_EPS + cv2.TERM_CRITERIA_MAX_ITER, 30, 1e-3)\n",
        "left_pts, right_pts = [], []\n",
        "img_size = None\n",
        "\n",
        "for left_img_path, right_img_path in zip(left_imgs, right_imgs):\n",
        "    left_img = cv2.imread(left_img_path, cv2.IMREAD_GRAYSCALE)\n",
        "    right_img = cv2.imread(right_img_path, cv2.IMREAD_GRAYSCALE)\n",
        "    if img_size is None:\n",
        "        img_size = (left_img.shape[1], left_img.shape[0])\n",
        "\n",
        "    res_left, corners_left = cv2.findChessboardCorners(left_img, PATTERN_SIZE)\n",
        "    res_right, corners_right = cv2.findChessboardCorners(right_img, PATTERN_SIZE)\n",
        "    if res_left:\n",
        "      corners_left = cv2.cornerSubPix(left_img, corners_left, (10, 10), (-1,-1),criteria)# Process corners_left\n",
        "    else:\n",
        "      print(\"Failed to find chessboard corners in left image!\")\n",
        "      print(left_img_path)\n",
        "    if res_right:\n",
        "      corners_right = cv2.cornerSubPix(right_img, corners_right, (10, 10), (-1,-1),\n",
        "                                     criteria)# Process corners_right\n",
        "    else:\n",
        "      print(\"Failed to find chessboard corners in right image!\")\n",
        "      print(right_img_path)\n",
        "\n",
        "    left_pts.append(corners_left)\n",
        "    right_pts.append(corners_right)"
      ],
      "metadata": {
        "id": "NyqLW3voCOdi"
      },
      "execution_count": 30,
      "outputs": []
    },
    {
      "cell_type": "code",
      "source": [
        "print(len(left_pts))\n",
        "print(len(right_pts))"
      ],
      "metadata": {
        "colab": {
          "base_uri": "https://localhost:8080/"
        },
        "id": "HSyxBAn1GE1_",
        "outputId": "1f1dd3f4-6bbc-4ece-91bf-60b6a57db837"
      },
      "execution_count": 31,
      "outputs": [
        {
          "output_type": "stream",
          "name": "stdout",
          "text": [
            "49\n",
            "49\n"
          ]
        }
      ]
    },
    {
      "cell_type": "code",
      "source": [
        "pattern_points = np.zeros((np.prod(PATTERN_SIZE), 3), np.float32)\n",
        "pattern_points[:, :2] = np.indices(PATTERN_SIZE).T.reshape(-1, 2)\n",
        "pattern_points = [pattern_points] * len(left_imgs)"
      ],
      "metadata": {
        "id": "dRpELv9pGQ3s"
      },
      "execution_count": 32,
      "outputs": []
    },
    {
      "cell_type": "code",
      "source": [],
      "metadata": {
        "id": "fG6CrzU8JswP"
      },
      "execution_count": null,
      "outputs": []
    },
    {
      "cell_type": "code",
      "source": [
        "err, Kl, Dl, Kr, Dr, R, T, E, F = cv2.stereoCalibrate(\n",
        "    pattern_points, left_pts, right_pts, None, None, None, None, img_size, flags=0)"
      ],
      "metadata": {
        "id": "khtqk5JTGT-E"
      },
      "execution_count": 33,
      "outputs": []
    },
    {
      "cell_type": "code",
      "source": [
        "print('Left camera:')\n",
        "print(Kl)\n",
        "print('Left camera distortion:')\n",
        "print(Dl)\n",
        "print('Right camera:')\n",
        "print(Kr)\n",
        "print('Right camera distortion:')\n",
        "print(Dr)\n",
        "print('Rotation matrix:')\n",
        "print(R)\n",
        "print('Translation:')\n",
        "print(T)"
      ],
      "metadata": {
        "colab": {
          "base_uri": "https://localhost:8080/"
        },
        "id": "OK81ksFCOQGP",
        "outputId": "d2dcb480-8402-4044-d7e1-23359718e0c4"
      },
      "execution_count": 34,
      "outputs": [
        {
          "output_type": "stream",
          "name": "stdout",
          "text": [
            "Left camera:\n",
            "[[689.75513734   0.         639.60356447]\n",
            " [  0.         690.19001979 346.52365137]\n",
            " [  0.           0.           1.        ]]\n",
            "Left camera distortion:\n",
            "[[ 0.01155368  0.00026051 -0.00224877 -0.00200629 -0.03818279]]\n",
            "Right camera:\n",
            "[[689.64265868   0.         647.74542911]\n",
            " [  0.         690.79312614 346.34760725]\n",
            " [  0.           0.           1.        ]]\n",
            "Right camera distortion:\n",
            "[[ 0.03440914 -0.1405681  -0.00221902  0.00139711  0.15443736]]\n",
            "Rotation matrix:\n",
            "[[ 9.99981720e-01  7.38344359e-04 -6.00123709e-03]\n",
            " [-7.34465967e-04  9.99999520e-01  6.48443629e-04]\n",
            " [ 6.00171299e-03 -6.44024071e-04  9.99981782e-01]]\n",
            "Translation:\n",
            "[[-5.00126520e+00]\n",
            " [ 1.38244801e-03]\n",
            " [ 2.83858919e-02]]\n"
          ]
        }
      ]
    }
  ]
}